{
 "cells": [
  {
   "cell_type": "code",
   "execution_count": null,
   "id": "4001f96f336ff285",
   "metadata": {},
   "outputs": [],
   "source": [
    "from sklearn.datasets import fetch_openml"
   ]
  },
  {
   "cell_type": "code",
   "execution_count": null,
   "id": "8239a443e1232277",
   "metadata": {},
   "outputs": [],
   "source": [
    "f_mnist = (\n",
    "    globals()[\"f_mnist\"] if \"f_mnist\" in globals() else fetch_openml(data_id=40996)\n",
    ")"
   ]
  },
  {
   "cell_type": "code",
   "execution_count": null,
   "id": "faad905093854d79",
   "metadata": {},
   "outputs": [],
   "source": [
    "type(f_mnist)"
   ]
  },
  {
   "cell_type": "code",
   "execution_count": null,
   "id": "e03e64b43d07ea78",
   "metadata": {},
   "outputs": [],
   "source": [
    "f_mnist.keys()"
   ]
  },
  {
   "cell_type": "code",
   "execution_count": null,
   "id": "3bb1cc411ba81076",
   "metadata": {},
   "outputs": [],
   "source": [
    "f_mnist[\"data\"]"
   ]
  },
  {
   "cell_type": "code",
   "execution_count": null,
   "id": "c5188461e45d57e6",
   "metadata": {},
   "outputs": [],
   "source": [
    "f_mnist.data"
   ]
  },
  {
   "cell_type": "code",
   "execution_count": null,
   "id": "47d03317d168af60",
   "metadata": {},
   "outputs": [],
   "source": [
    "f_mnist.data.shape"
   ]
  },
  {
   "cell_type": "code",
   "execution_count": null,
   "id": "79595081506e72ae",
   "metadata": {},
   "outputs": [],
   "source": [
    "28 * 28"
   ]
  },
  {
   "cell_type": "code",
   "execution_count": null,
   "id": "b5dab49a4a7e9237",
   "metadata": {},
   "outputs": [],
   "source": [
    "f_mnist.target"
   ]
  },
  {
   "cell_type": "code",
   "execution_count": null,
   "id": "e9f155662b68bf38",
   "metadata": {},
   "outputs": [],
   "source": [
    "f_mnist.categories"
   ]
  },
  {
   "cell_type": "code",
   "execution_count": null,
   "id": "0248928715f39433",
   "metadata": {},
   "outputs": [],
   "source": [
    "type(f_mnist.data)"
   ]
  },
  {
   "cell_type": "code",
   "execution_count": null,
   "id": "8414c253ce72a23f",
   "metadata": {},
   "outputs": [],
   "source": [
    "type(f_mnist.target)"
   ]
  },
  {
   "cell_type": "code",
   "execution_count": null,
   "id": "aae79e368171786a",
   "metadata": {},
   "outputs": [],
   "source": [
    "x, y = f_mnist.data.to_numpy(), f_mnist.target.to_numpy()"
   ]
  },
  {
   "cell_type": "code",
   "execution_count": null,
   "id": "2ed3da8fc2392d38",
   "metadata": {},
   "outputs": [],
   "source": [
    "type(x)"
   ]
  },
  {
   "cell_type": "code",
   "execution_count": null,
   "id": "2338ee5fbc040906",
   "metadata": {},
   "outputs": [],
   "source": [
    "x.shape"
   ]
  },
  {
   "cell_type": "code",
   "execution_count": null,
   "id": "35455c5850e66f11",
   "metadata": {},
   "outputs": [],
   "source": [
    "y.shape"
   ]
  },
  {
   "cell_type": "code",
   "execution_count": null,
   "id": "278763e003b1bb9d",
   "metadata": {},
   "outputs": [],
   "source": [
    "first_item = x[0]\n",
    "second_item = x[1]"
   ]
  },
  {
   "cell_type": "code",
   "execution_count": null,
   "id": "847ffb35b950c8d3",
   "metadata": {},
   "outputs": [],
   "source": [
    "type(first_item)"
   ]
  },
  {
   "cell_type": "code",
   "execution_count": null,
   "id": "ffa0cfb79566ed1c",
   "metadata": {},
   "outputs": [],
   "source": [
    "first_item.shape"
   ]
  },
  {
   "cell_type": "code",
   "execution_count": null,
   "id": "74bbda38916fcc52",
   "metadata": {},
   "outputs": [],
   "source": [
    "first_item_image = first_item.reshape(28, 28)\n",
    "second_digit_image = second_item.reshape(28, 28)"
   ]
  },
  {
   "cell_type": "code",
   "execution_count": null,
   "id": "639b4bd2f03da88d",
   "metadata": {},
   "outputs": [],
   "source": [
    "first_item_image.shape"
   ]
  },
  {
   "cell_type": "code",
   "execution_count": null,
   "id": "34ea359309ae9880",
   "metadata": {},
   "outputs": [],
   "source": [
    "import matplotlib.pyplot as plt  # noqa: E402"
   ]
  },
  {
   "cell_type": "code",
   "execution_count": null,
   "id": "31f575382546ef6f",
   "metadata": {},
   "outputs": [],
   "source": [
    "plt.imshow(first_item_image, cmap=\"binary\")"
   ]
  },
  {
   "cell_type": "code",
   "execution_count": null,
   "id": "44d94ba97b5c3710",
   "metadata": {},
   "outputs": [],
   "source": [
    "plt.imshow(second_digit_image, cmap=\"binary\")"
   ]
  },
  {
   "cell_type": "code",
   "execution_count": null,
   "id": "1f71c3a55fc803ea",
   "metadata": {},
   "outputs": [],
   "source": [
    "y[:2]"
   ]
  },
  {
   "cell_type": "code",
   "execution_count": null,
   "id": "37ba2b8d432f833d",
   "metadata": {},
   "outputs": [],
   "source": [
    "import numpy as np  # noqa: E402"
   ]
  },
  {
   "cell_type": "code",
   "execution_count": null,
   "id": "238c2204da632999",
   "metadata": {},
   "outputs": [],
   "source": [
    "y = y.astype(np.int32)"
   ]
  },
  {
   "cell_type": "code",
   "execution_count": null,
   "id": "ac0279bd5025ba28",
   "metadata": {},
   "outputs": [],
   "source": [
    "x_train, x_test = x[:60_000], x[60_000:]"
   ]
  },
  {
   "cell_type": "code",
   "execution_count": null,
   "id": "f950f12c7d2c7c48",
   "metadata": {},
   "outputs": [],
   "source": [
    "y_train, y_test = y[:60_000], y[60_000:]"
   ]
  },
  {
   "cell_type": "code",
   "execution_count": null,
   "id": "e16d13fb848081bc",
   "metadata": {},
   "outputs": [],
   "source": [
    "def show_item(index):\n",
    "    image = x[index].reshape(28, 28)\n",
    "    label = y[index]\n",
    "    plt.imshow(image, cmap=\"binary\")\n",
    "    plt.show()\n",
    "    print(\"Item\", index, \"Label =\", label)"
   ]
  },
  {
   "cell_type": "code",
   "execution_count": null,
   "id": "a91f43ba2c4c5743",
   "metadata": {},
   "outputs": [],
   "source": [
    "def show_items_with_label(label, num_items=3):\n",
    "    items_shown = 0\n",
    "    for i in range(len(y)):\n",
    "        if y[i] == label:\n",
    "            items_shown += 1\n",
    "            show_item(i)\n",
    "        if items_shown >= num_items:\n",
    "            break"
   ]
  },
  {
   "cell_type": "code",
   "execution_count": null,
   "id": "446aed17dafe7159",
   "metadata": {},
   "outputs": [],
   "source": [
    "def show_all_item_kinds():\n",
    "    for label in range(10):\n",
    "        show_items_with_label(label)"
   ]
  },
  {
   "cell_type": "code",
   "execution_count": null,
   "id": "12edae114a0b796d",
   "metadata": {},
   "outputs": [],
   "source": [
    "trousers_train = y_train == 1\n",
    "trousers_test = y_test == 1"
   ]
  },
  {
   "cell_type": "code",
   "execution_count": null,
   "id": "cdf94bc5d2949c12",
   "metadata": {},
   "outputs": [],
   "source": [
    "trousers_test[:3], y_test[:3]"
   ]
  },
  {
   "cell_type": "code",
   "execution_count": null,
   "id": "a5d217ebb7cd1b44",
   "metadata": {},
   "outputs": [],
   "source": [
    "plt.imshow(x_test[0].reshape(28, 28), cmap=\"binary\")"
   ]
  },
  {
   "cell_type": "code",
   "execution_count": null,
   "id": "303d352ff5fdcbcd",
   "metadata": {},
   "outputs": [],
   "source": [
    "from sklearn.linear_model import SGDClassifier  # noqa: E402"
   ]
  },
  {
   "cell_type": "code",
   "execution_count": null,
   "id": "ffd43373835db180",
   "metadata": {},
   "outputs": [],
   "source": [
    "sgd_clf = SGDClassifier(random_state=42)"
   ]
  },
  {
   "cell_type": "code",
   "execution_count": null,
   "id": "f2abe37dc93bf6ec",
   "metadata": {},
   "outputs": [],
   "source": [
    "sgd_clf.fit(x_train, trousers_train)"
   ]
  },
  {
   "cell_type": "code",
   "execution_count": null,
   "id": "5724489c3fcfa9ee",
   "metadata": {},
   "outputs": [],
   "source": [
    "sgd_clf.predict([first_item])"
   ]
  },
  {
   "cell_type": "code",
   "execution_count": null,
   "id": "935cc73dd2775ff6",
   "metadata": {},
   "outputs": [],
   "source": [
    "sgd_clf.predict(x_test[:3])"
   ]
  },
  {
   "cell_type": "code",
   "execution_count": null,
   "id": "378d88bc7ddf1221",
   "metadata": {},
   "outputs": [],
   "source": [
    "trousers_predict = sgd_clf.predict(x_test)"
   ]
  },
  {
   "cell_type": "code",
   "execution_count": null,
   "id": "f02e77e77ad94292",
   "metadata": {},
   "outputs": [],
   "source": [
    "from sklearn.metrics import (  # noqa: E402\n",
    "    accuracy_score,\n",
    "    balanced_accuracy_score,\n",
    "    f1_score,\n",
    "    precision_score,\n",
    "    recall_score,\n",
    ")"
   ]
  },
  {
   "cell_type": "code",
   "execution_count": null,
   "id": "7edede9d46322971",
   "metadata": {},
   "outputs": [],
   "source": [
    "def print_scores(predictions):\n",
    "    accuracy = accuracy_score(trousers_test, predictions) * 100\n",
    "    balanced_accuracy = balanced_accuracy_score(trousers_test, predictions) * 100\n",
    "    precision = precision_score(trousers_test, predictions, zero_division=0) * 100\n",
    "    recall = recall_score(trousers_test, predictions, zero_division=0) * 100\n",
    "    f1 = f1_score(trousers_test, predictions, zero_division=0) * 100\n",
    "    print(f\"Accuracy:          {accuracy:.1f}%\")\n",
    "    print(f\"Balanced Accuracy: {balanced_accuracy:.1f}%\")\n",
    "    print(f\"Precision:         {precision:.1f}%\")\n",
    "    print(f\"Recall:            {recall:.1f}%\")\n",
    "    print(f\"F1:                {f1:.1f}%\")"
   ]
  },
  {
   "cell_type": "code",
   "execution_count": null,
   "id": "9970f5427b24e4ee",
   "metadata": {},
   "outputs": [],
   "source": [
    "print_scores(trousers_predict)"
   ]
  },
  {
   "cell_type": "code",
   "execution_count": null,
   "id": "52b07f63b4dc278c",
   "metadata": {},
   "outputs": [],
   "source": [
    "from sklearn.tree import DecisionTreeClassifier  # noqa: E402"
   ]
  },
  {
   "cell_type": "code",
   "execution_count": null,
   "id": "5bd0fdf1f1c19a43",
   "metadata": {},
   "outputs": [],
   "source": [
    "dt_clf = DecisionTreeClassifier()"
   ]
  },
  {
   "cell_type": "code",
   "execution_count": null,
   "id": "57b611e62b1193b6",
   "metadata": {},
   "outputs": [],
   "source": [
    "dt_clf.fit(x_train, trousers_train)"
   ]
  },
  {
   "cell_type": "code",
   "execution_count": null,
   "id": "daedf1c7247366c0",
   "metadata": {},
   "outputs": [],
   "source": [
    "trousers_predict_dt = dt_clf.predict(x_test)"
   ]
  },
  {
   "cell_type": "code",
   "execution_count": null,
   "id": "753f2c8954ece002",
   "metadata": {},
   "outputs": [],
   "source": [
    "print_scores(trousers_predict_dt)"
   ]
  },
  {
   "cell_type": "code",
   "execution_count": null,
   "id": "a66aada81381dc30",
   "metadata": {},
   "outputs": [],
   "source": [
    "from sklearn.ensemble import RandomForestClassifier  # noqa: E402"
   ]
  },
  {
   "cell_type": "code",
   "execution_count": null,
   "id": "be85ba21fefa92ef",
   "metadata": {},
   "outputs": [],
   "source": [
    "rf_clf = RandomForestClassifier(random_state=42)"
   ]
  },
  {
   "cell_type": "code",
   "execution_count": null,
   "id": "f480c32cd065b878",
   "metadata": {},
   "outputs": [],
   "source": [
    "rf_clf.fit(x_train, trousers_train)"
   ]
  },
  {
   "cell_type": "code",
   "execution_count": null,
   "id": "072614193d065ab7",
   "metadata": {},
   "outputs": [],
   "source": [
    "trousers_predict_rf = rf_clf.predict(x_test)"
   ]
  },
  {
   "cell_type": "code",
   "execution_count": null,
   "id": "34eb1749144cf19f",
   "metadata": {},
   "outputs": [],
   "source": [
    "print_scores(trousers_predict_rf)"
   ]
  },
  {
   "cell_type": "code",
   "execution_count": null,
   "id": "6b4e03423667dbb7",
   "metadata": {},
   "outputs": [],
   "source": []
  }
 ],
 "metadata": {
  "kernelspec": {
   "display_name": "Python 3 (ipykernel)",
   "language": "python",
   "name": "python3"
  },
  "language_info": {
   "codemirror_mode": {
    "name": "ipython",
    "version": 3
   },
   "file_extension": ".py",
   "mimetype": "text/x-python",
   "name": "python",
   "nbconvert_exporter": "python",
   "pygments_lexer": "ipython3"
  }
 },
 "nbformat": 4,
 "nbformat_minor": 5
}
