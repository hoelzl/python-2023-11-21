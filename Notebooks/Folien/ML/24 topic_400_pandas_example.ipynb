{
 "cells": [
  {
   "cell_type": "code",
   "execution_count": null,
   "id": "b68a4a0ec79649be",
   "metadata": {},
   "outputs": [],
   "source": [
    "import numpy as np\n",
    "import pandas as pd"
   ]
  },
  {
   "cell_type": "code",
   "execution_count": null,
   "id": "537048b8653556e9",
   "metadata": {},
   "outputs": [],
   "source": [
    "pd.Series(data=[10, 20, 30, 40])"
   ]
  },
  {
   "cell_type": "code",
   "execution_count": null,
   "id": "e388602029b12db6",
   "metadata": {},
   "outputs": [],
   "source": [
    "pd.Series([\"a\", \"b\", \"c\"])"
   ]
  },
  {
   "cell_type": "code",
   "execution_count": null,
   "id": "4e99b7ed9c621600",
   "metadata": {},
   "outputs": [],
   "source": [
    "pd.Series(data=[1, 2, 3, 4], index=[\"w\", \"x\", \"y\", \"z\"])"
   ]
  },
  {
   "cell_type": "code",
   "execution_count": null,
   "id": "6c5ba3f27bc724d5",
   "metadata": {},
   "outputs": [],
   "source": [
    "arr = np.arange(5)\n",
    "indices = \"a b c d e\".split()\n",
    "arr, indices"
   ]
  },
  {
   "cell_type": "code",
   "execution_count": null,
   "id": "efe934254e295d19",
   "metadata": {},
   "outputs": [],
   "source": [
    "pd.Series(data=arr)"
   ]
  },
  {
   "cell_type": "code",
   "execution_count": null,
   "id": "5893845865bf2ee0",
   "metadata": {},
   "outputs": [],
   "source": [
    "pd.Series(data=arr, index=indices)"
   ]
  },
  {
   "cell_type": "code",
   "execution_count": null,
   "id": "e2ed76106b0bbb34",
   "metadata": {},
   "outputs": [],
   "source": [
    "rng = np.random.default_rng(42)\n",
    "data_vec = rng.normal(size=1000)\n",
    "data = pd.Series(data=data_vec)"
   ]
  },
  {
   "cell_type": "code",
   "execution_count": null,
   "id": "4516c726a95c8d5d",
   "metadata": {},
   "outputs": [],
   "source": [
    "data"
   ]
  },
  {
   "cell_type": "code",
   "execution_count": null,
   "id": "8df259c1c035524a",
   "metadata": {},
   "outputs": [],
   "source": [
    "data.head()"
   ]
  },
  {
   "cell_type": "code",
   "execution_count": null,
   "id": "d442998f659a614b",
   "metadata": {},
   "outputs": [],
   "source": [
    "data.head(2)"
   ]
  },
  {
   "cell_type": "code",
   "execution_count": null,
   "id": "34decce23696be0b",
   "metadata": {},
   "outputs": [],
   "source": [
    "type(data.head())"
   ]
  },
  {
   "cell_type": "code",
   "execution_count": null,
   "id": "adc9ab2def46009b",
   "metadata": {},
   "outputs": [],
   "source": [
    "data.tail()"
   ]
  },
  {
   "cell_type": "code",
   "execution_count": null,
   "id": "558884092956133d",
   "metadata": {},
   "outputs": [],
   "source": [
    "pd.Series({\"Ice Cream\": 2.49, \"Cake\": 4.99, \"Fudge\": 7.99})"
   ]
  },
  {
   "cell_type": "code",
   "execution_count": null,
   "id": "2642e5b0e124a481",
   "metadata": {},
   "outputs": [],
   "source": [
    "food1 = pd.Series({\"Ice Cream\": 2.49, \"Cake\": 4.99, \"Fudge\": 7.99})\n",
    "food2 = pd.Series({\"Cake\": 4.99, \"Ice Cream\": 3.99, \"Pie\": 3.49, \"Cheese\": 1.99})"
   ]
  },
  {
   "cell_type": "code",
   "execution_count": null,
   "id": "8f0aea72ede5b5b2",
   "metadata": {},
   "outputs": [],
   "source": [
    "food1"
   ]
  },
  {
   "cell_type": "code",
   "execution_count": null,
   "id": "755f0bc23cb19655",
   "metadata": {},
   "outputs": [],
   "source": [
    "food1.index"
   ]
  },
  {
   "cell_type": "code",
   "execution_count": null,
   "id": "aea501d0d88f0da8",
   "metadata": {},
   "outputs": [],
   "source": [
    "food1.size"
   ]
  },
  {
   "cell_type": "code",
   "execution_count": null,
   "id": "da5636112db6e7e4",
   "metadata": {},
   "outputs": [],
   "source": [
    "food1.sum()"
   ]
  },
  {
   "cell_type": "code",
   "execution_count": null,
   "id": "f07c320ed9ead112",
   "metadata": {},
   "outputs": [],
   "source": [
    "food1.mean()"
   ]
  },
  {
   "cell_type": "code",
   "execution_count": null,
   "id": "305574ec45709cf2",
   "metadata": {},
   "outputs": [],
   "source": [
    "food1.name"
   ]
  },
  {
   "cell_type": "code",
   "execution_count": null,
   "id": "94df414c113d4b86",
   "metadata": {},
   "outputs": [],
   "source": [
    "food1.name = \"Deserts\""
   ]
  },
  {
   "cell_type": "code",
   "execution_count": null,
   "id": "e0dacda704e05f7d",
   "metadata": {},
   "outputs": [],
   "source": [
    "food1"
   ]
  },
  {
   "cell_type": "code",
   "execution_count": null,
   "id": "9dcf1263f2c45b4d",
   "metadata": {},
   "outputs": [],
   "source": [
    "food1.name"
   ]
  },
  {
   "cell_type": "code",
   "execution_count": null,
   "id": "3c2519701d4e6739",
   "metadata": {},
   "outputs": [],
   "source": [
    "food1.plot.bar(legend=True)"
   ]
  },
  {
   "cell_type": "code",
   "execution_count": null,
   "id": "5c44adcc4f1d2923",
   "metadata": {},
   "outputs": [],
   "source": [
    "data.plot.hist()"
   ]
  },
  {
   "cell_type": "code",
   "execution_count": null,
   "id": "26f649a414f99f36",
   "metadata": {},
   "outputs": [],
   "source": [
    "food1"
   ]
  },
  {
   "cell_type": "code",
   "execution_count": null,
   "id": "90e7cc2dca15109e",
   "metadata": {},
   "outputs": [],
   "source": [
    "food1[\"Cake\"]"
   ]
  },
  {
   "cell_type": "code",
   "execution_count": null,
   "id": "086c250ffb0d715b",
   "metadata": {},
   "outputs": [],
   "source": [
    "food1[0]"
   ]
  },
  {
   "cell_type": "code",
   "execution_count": null,
   "id": "edc526e602f20ab3",
   "metadata": {},
   "outputs": [],
   "source": [
    "food1.loc[\"Cake\"]"
   ]
  },
  {
   "cell_type": "code",
   "execution_count": null,
   "id": "10db71782b22f9d6",
   "metadata": {},
   "outputs": [],
   "source": [
    "food1.iloc[0]"
   ]
  },
  {
   "cell_type": "code",
   "execution_count": null,
   "id": "98fe13b84f85e371",
   "metadata": {},
   "outputs": [],
   "source": [
    "food1.argmin()"
   ]
  },
  {
   "cell_type": "code",
   "execution_count": null,
   "id": "8978541858036957",
   "metadata": {},
   "outputs": [],
   "source": [
    "# food1[\"Pie\"]"
   ]
  },
  {
   "cell_type": "code",
   "execution_count": null,
   "id": "049a00960944462a",
   "metadata": {},
   "outputs": [],
   "source": [
    "confusing = pd.Series(data=np.linspace(0, 5, 11), index=np.arange(-5, 6))\n",
    "confusing"
   ]
  },
  {
   "cell_type": "code",
   "execution_count": null,
   "id": "a63b3fb9099926a3",
   "metadata": {},
   "outputs": [],
   "source": [
    "confusing[0]"
   ]
  },
  {
   "cell_type": "code",
   "execution_count": null,
   "id": "0a44a48ee5d4b202",
   "metadata": {},
   "outputs": [],
   "source": [
    "confusing.loc[0]"
   ]
  },
  {
   "cell_type": "code",
   "execution_count": null,
   "id": "fcaae9a9ac9084cb",
   "metadata": {},
   "outputs": [],
   "source": [
    "confusing.iloc[0]"
   ]
  },
  {
   "cell_type": "code",
   "execution_count": null,
   "id": "a5ec9bb679957eac",
   "metadata": {},
   "outputs": [],
   "source": [
    "confusing.loc[[True, False] * 5 + [True]]"
   ]
  },
  {
   "cell_type": "code",
   "execution_count": null,
   "id": "d0230c5ead05acdd",
   "metadata": {},
   "outputs": [],
   "source": [
    "food1"
   ]
  },
  {
   "cell_type": "code",
   "execution_count": null,
   "id": "2b722dcacc210e67",
   "metadata": {},
   "outputs": [],
   "source": [
    "food2"
   ]
  },
  {
   "cell_type": "code",
   "execution_count": null,
   "id": "3133f72f8b15c85b",
   "metadata": {},
   "outputs": [],
   "source": [
    "food_sum = food1 + food2\n",
    "food_sum"
   ]
  },
  {
   "cell_type": "code",
   "execution_count": null,
   "id": "aa0eb3831eafcc1c",
   "metadata": {},
   "outputs": [],
   "source": [
    "food1 + 0.5"
   ]
  },
  {
   "cell_type": "code",
   "execution_count": null,
   "id": "acdee5d081beb9b3",
   "metadata": {},
   "outputs": [],
   "source": [
    "food1"
   ]
  },
  {
   "cell_type": "code",
   "execution_count": null,
   "id": "be6bacff36c158aa",
   "metadata": {},
   "outputs": [],
   "source": [
    "def discount(price):\n",
    "    return price * 0.9"
   ]
  },
  {
   "cell_type": "code",
   "execution_count": null,
   "id": "db19b0d8a6be6eb6",
   "metadata": {},
   "outputs": [],
   "source": [
    "food1.apply(discount)"
   ]
  },
  {
   "cell_type": "code",
   "execution_count": null,
   "id": "b9f8c79e622cb395",
   "metadata": {},
   "outputs": [],
   "source": [
    "food1"
   ]
  },
  {
   "cell_type": "code",
   "execution_count": null,
   "id": "5bc7d688985be635",
   "metadata": {},
   "outputs": [],
   "source": [
    "all_food = food1.append(food2)\n",
    "all_food"
   ]
  },
  {
   "cell_type": "code",
   "execution_count": null,
   "id": "205d701faf560ea4",
   "metadata": {},
   "outputs": [],
   "source": [
    "all_food[\"Cake\"]"
   ]
  },
  {
   "cell_type": "code",
   "execution_count": null,
   "id": "866a8c052d1c4749",
   "metadata": {},
   "outputs": [],
   "source": [
    "all_food[\"Pie\"]"
   ]
  },
  {
   "cell_type": "code",
   "execution_count": null,
   "id": "8d15935411918a73",
   "metadata": {},
   "outputs": [],
   "source": [
    "all_food.index"
   ]
  },
  {
   "cell_type": "code",
   "execution_count": null,
   "id": "a599888e914bfa5b",
   "metadata": {},
   "outputs": [],
   "source": [
    "all_food.is_unique"
   ]
  },
  {
   "cell_type": "code",
   "execution_count": null,
   "id": "1411518163f9a596",
   "metadata": {},
   "outputs": [],
   "source": [
    "food1.is_unique"
   ]
  },
  {
   "cell_type": "code",
   "execution_count": null,
   "id": "f1297b0f23ed88a7",
   "metadata": {},
   "outputs": [],
   "source": [
    "all_food.groupby(all_food.index).mean()"
   ]
  },
  {
   "cell_type": "code",
   "execution_count": null,
   "id": "0b9c3b13338ab1e0",
   "metadata": {},
   "outputs": [],
   "source": [
    "all_food.index.is_monotonic_increasing"
   ]
  },
  {
   "cell_type": "code",
   "execution_count": null,
   "id": "5fbb9605d5076256",
   "metadata": {},
   "outputs": [],
   "source": [
    "all_food.index"
   ]
  },
  {
   "cell_type": "code",
   "execution_count": null,
   "id": "5b852b5cf5725499",
   "metadata": {},
   "outputs": [],
   "source": [
    "sorted_food = all_food.sort_index()"
   ]
  },
  {
   "cell_type": "code",
   "execution_count": null,
   "id": "cd43f606508d3dc8",
   "metadata": {},
   "outputs": [],
   "source": [
    "sorted_food"
   ]
  },
  {
   "cell_type": "code",
   "execution_count": null,
   "id": "570fdccac30e7191",
   "metadata": {
    "lines_to_next_cell": 2
   },
   "outputs": [],
   "source": [
    "all_food.sort_values()"
   ]
  },
  {
   "cell_type": "code",
   "execution_count": null,
   "id": "d6181dcd6ff3939f",
   "metadata": {},
   "outputs": [],
   "source": [
    "all_food[[\"Pie\", \"Cake\"]]"
   ]
  },
  {
   "cell_type": "code",
   "execution_count": null,
   "id": "4a850b6af321c19d",
   "metadata": {},
   "outputs": [],
   "source": [
    "all_food[[\"Pie\"]]"
   ]
  },
  {
   "cell_type": "code",
   "execution_count": null,
   "id": "465a3afcd0387f7e",
   "metadata": {},
   "outputs": [],
   "source": [
    "all_food[1:3]"
   ]
  },
  {
   "cell_type": "code",
   "execution_count": null,
   "id": "2543082e9c4afbe5",
   "metadata": {},
   "outputs": [],
   "source": [
    "all_food.iloc[1:3]"
   ]
  },
  {
   "cell_type": "code",
   "execution_count": null,
   "id": "df883ba0d156b640",
   "metadata": {},
   "outputs": [],
   "source": [
    "sorted_food[\"Cake\":\"Fudge\"]"
   ]
  },
  {
   "cell_type": "code",
   "execution_count": null,
   "id": "a3ac654fdf3d3bef",
   "metadata": {},
   "outputs": [],
   "source": [
    "food = food1 + food2\n",
    "food"
   ]
  },
  {
   "cell_type": "code",
   "execution_count": null,
   "id": "f78a30ac01fe4797",
   "metadata": {},
   "outputs": [],
   "source": [
    "food.isna()"
   ]
  },
  {
   "cell_type": "code",
   "execution_count": null,
   "id": "46f02885bb064c49",
   "metadata": {},
   "outputs": [],
   "source": [
    "food.isna().sum()"
   ]
  },
  {
   "cell_type": "code",
   "execution_count": null,
   "id": "028cbca17ba32a8e",
   "metadata": {},
   "outputs": [],
   "source": [
    "food.dropna()"
   ]
  },
  {
   "cell_type": "code",
   "execution_count": null,
   "id": "e9b6672699f86c9b",
   "metadata": {},
   "outputs": [],
   "source": [
    "food"
   ]
  },
  {
   "cell_type": "code",
   "execution_count": null,
   "id": "5f4bcecb77179ebe",
   "metadata": {},
   "outputs": [],
   "source": [
    "food.dropna(inplace=True)"
   ]
  },
  {
   "cell_type": "code",
   "execution_count": null,
   "id": "aef8a673ef964167",
   "metadata": {},
   "outputs": [],
   "source": [
    "food"
   ]
  },
  {
   "cell_type": "code",
   "execution_count": null,
   "id": "e163d88c1b207c39",
   "metadata": {},
   "outputs": [],
   "source": [
    "food = food1 + food2\n",
    "sum_food = food"
   ]
  },
  {
   "cell_type": "code",
   "execution_count": null,
   "id": "e583810da24a3a14",
   "metadata": {},
   "outputs": [],
   "source": [
    "food = food.dropna()"
   ]
  },
  {
   "cell_type": "code",
   "execution_count": null,
   "id": "727f96fec7d4a7fc",
   "metadata": {},
   "outputs": [],
   "source": [
    "food"
   ]
  },
  {
   "cell_type": "code",
   "execution_count": null,
   "id": "18f0f220b9ffeae4",
   "metadata": {},
   "outputs": [],
   "source": [
    "sum_food"
   ]
  },
  {
   "cell_type": "code",
   "execution_count": null,
   "id": "f0b332d5f2f72bd5",
   "metadata": {},
   "outputs": [],
   "source": [
    "food = food1 + food2\n",
    "sum_food = food"
   ]
  },
  {
   "cell_type": "code",
   "execution_count": null,
   "id": "cc5bac4cd368ab05",
   "metadata": {},
   "outputs": [],
   "source": [
    "sum_food is food  # noqa"
   ]
  },
  {
   "cell_type": "code",
   "execution_count": null,
   "id": "43f817baf26743c6",
   "metadata": {},
   "outputs": [],
   "source": [
    "food.dropna(inplace=True)"
   ]
  },
  {
   "cell_type": "code",
   "execution_count": null,
   "id": "4853737aa8d47e01",
   "metadata": {},
   "outputs": [],
   "source": [
    "food"
   ]
  },
  {
   "cell_type": "code",
   "execution_count": null,
   "id": "cdebd63d0561db77",
   "metadata": {},
   "outputs": [],
   "source": [
    "sum_food"
   ]
  },
  {
   "cell_type": "code",
   "execution_count": null,
   "id": "d516df5ae162e7e6",
   "metadata": {},
   "outputs": [],
   "source": [
    "from ml_for_programmers.config import Config  # noqa"
   ]
  },
  {
   "cell_type": "code",
   "execution_count": null,
   "id": "0b3b2516d628103a",
   "metadata": {},
   "outputs": [],
   "source": [
    "config = Config()\n",
    "raw_dir_path = config.data_dir_path / \"raw\"\n",
    "raw_dir_path"
   ]
  },
  {
   "cell_type": "code",
   "execution_count": null,
   "id": "ddf66372fd63ad7d",
   "metadata": {},
   "outputs": [],
   "source": [
    "def create_data_frame():\n",
    "    rng = np.random.default_rng(42)\n",
    "    array = rng.normal(size=(5, 4), scale=5.0)\n",
    "    index = \"A B C D E\".split()\n",
    "    columns = \"w x y z\".split()\n",
    "    return pd.DataFrame(data=array, index=index, columns=columns)"
   ]
  },
  {
   "cell_type": "code",
   "execution_count": null,
   "id": "549a8b0668fc75c2",
   "metadata": {},
   "outputs": [],
   "source": [
    "create_data_frame()"
   ]
  },
  {
   "cell_type": "code",
   "execution_count": null,
   "id": "dd46acee5ef4dcc5",
   "metadata": {},
   "outputs": [],
   "source": [
    "pd.DataFrame([[2, 3, 4], [5, 6, 7]])"
   ]
  },
  {
   "cell_type": "code",
   "execution_count": null,
   "id": "cca1abd1a7be033f",
   "metadata": {},
   "outputs": [],
   "source": [
    "df = create_data_frame()"
   ]
  },
  {
   "cell_type": "code",
   "execution_count": null,
   "id": "4d04041d79eae14c",
   "metadata": {},
   "outputs": [],
   "source": [
    "type(df)"
   ]
  },
  {
   "cell_type": "code",
   "execution_count": null,
   "id": "bd8cdf4ca0fef076",
   "metadata": {},
   "outputs": [],
   "source": [
    "df_csv = pd.read_csv(raw_dir_path / \"example_data.csv\")"
   ]
  },
  {
   "cell_type": "code",
   "execution_count": null,
   "id": "9c440e8270be1478",
   "metadata": {},
   "outputs": [],
   "source": [
    "df_csv"
   ]
  },
  {
   "cell_type": "code",
   "execution_count": null,
   "id": "5c553d0615851ac2",
   "metadata": {},
   "outputs": [],
   "source": [
    "df_csv = pd.read_csv(raw_dir_path / \"example_data.csv\", index_col=0)\n",
    "df_csv"
   ]
  },
  {
   "cell_type": "code",
   "execution_count": null,
   "id": "df5333469b82fc0c",
   "metadata": {},
   "outputs": [],
   "source": [
    "df_exel = pd.read_excel(raw_dir_path / \"excel_data.xlsx\", index_col=0)\n",
    "df_exel"
   ]
  },
  {
   "cell_type": "code",
   "execution_count": null,
   "id": "9d43488df63b73b2",
   "metadata": {},
   "outputs": [],
   "source": [
    "df_exel2 = pd.read_excel(\n",
    "    raw_dir_path / \"excel_other_sheet.xlsx\",\n",
    "    index_col=0,\n",
    "    sheet_name=\"Another Sheet\",\n",
    "    skiprows=[1],\n",
    ")\n",
    "df_exel2"
   ]
  },
  {
   "cell_type": "code",
   "execution_count": null,
   "id": "23c6c2803ab0c30a",
   "metadata": {},
   "outputs": [],
   "source": [
    "df = create_data_frame()\n",
    "df"
   ]
  },
  {
   "cell_type": "code",
   "execution_count": null,
   "id": "47c710f0c9c52245",
   "metadata": {},
   "outputs": [],
   "source": [
    "df[\"w\"]"
   ]
  },
  {
   "cell_type": "code",
   "execution_count": null,
   "id": "ae0be7dd13165871",
   "metadata": {},
   "outputs": [],
   "source": [
    "type(df[\"w\"])"
   ]
  },
  {
   "cell_type": "code",
   "execution_count": null,
   "id": "2d41d4be27ce76ab",
   "metadata": {},
   "outputs": [],
   "source": [
    "df[[\"w\", \"y\"]]"
   ]
  },
  {
   "cell_type": "code",
   "execution_count": null,
   "id": "7ed0c0d3960d3e5c",
   "metadata": {},
   "outputs": [],
   "source": [
    "df[[\"w\"]]"
   ]
  },
  {
   "cell_type": "code",
   "execution_count": null,
   "id": "d8129b74dcaf7d73",
   "metadata": {},
   "outputs": [],
   "source": [
    "df.index"
   ]
  },
  {
   "cell_type": "code",
   "execution_count": null,
   "id": "5270af31a7295120",
   "metadata": {},
   "outputs": [],
   "source": [
    "df.size"
   ]
  },
  {
   "cell_type": "code",
   "execution_count": null,
   "id": "8456919f625f33be",
   "metadata": {},
   "outputs": [],
   "source": [
    "df.ndim"
   ]
  },
  {
   "cell_type": "code",
   "execution_count": null,
   "id": "f2c6219fab335bbb",
   "metadata": {},
   "outputs": [],
   "source": [
    "df.shape"
   ]
  },
  {
   "cell_type": "code",
   "execution_count": null,
   "id": "ddeed9c7c90cbc0e",
   "metadata": {},
   "outputs": [],
   "source": [
    "df = create_data_frame()"
   ]
  },
  {
   "cell_type": "code",
   "execution_count": null,
   "id": "5d02f19b6ba1aeb1",
   "metadata": {},
   "outputs": [],
   "source": [
    "df[\"Sum of w and y\"] = df[\"w\"] + df[\"y\"]"
   ]
  },
  {
   "cell_type": "code",
   "execution_count": null,
   "id": "a21f733464e85864",
   "metadata": {},
   "outputs": [],
   "source": [
    "df"
   ]
  },
  {
   "cell_type": "code",
   "execution_count": null,
   "id": "1ddb31b47ef15bbf",
   "metadata": {},
   "outputs": [],
   "source": [
    "df.rename(columns={\"Sum of w and y\": \"w + y\"})"
   ]
  },
  {
   "cell_type": "code",
   "execution_count": null,
   "id": "3b61b814171fb26b",
   "metadata": {},
   "outputs": [],
   "source": [
    "df"
   ]
  },
  {
   "cell_type": "code",
   "execution_count": null,
   "id": "e7282766c0a6bdf4",
   "metadata": {
    "lines_to_next_cell": 2
   },
   "outputs": [],
   "source": [
    "df.rename(columns={\"Sum of w and y\": \"w + y\"}, index={\"E\": \"Z\"}, inplace=True)"
   ]
  },
  {
   "cell_type": "code",
   "execution_count": null,
   "id": "bf840766eec4ea8e",
   "metadata": {},
   "outputs": [],
   "source": [
    "df"
   ]
  },
  {
   "cell_type": "code",
   "execution_count": null,
   "id": "b2a0642cda8023dd",
   "metadata": {},
   "outputs": [],
   "source": [
    "type(df[\"y\"])"
   ]
  },
  {
   "cell_type": "code",
   "execution_count": null,
   "id": "4c925a0245b944ed",
   "metadata": {},
   "outputs": [],
   "source": [
    "del df[\"y\"]\n",
    "df"
   ]
  },
  {
   "cell_type": "code",
   "execution_count": null,
   "id": "9a470c1b0b95dd58",
   "metadata": {},
   "outputs": [],
   "source": [
    "df.drop(\"A\")"
   ]
  },
  {
   "cell_type": "code",
   "execution_count": null,
   "id": "e2289c52c6815528",
   "metadata": {},
   "outputs": [],
   "source": [
    "df"
   ]
  },
  {
   "cell_type": "code",
   "execution_count": null,
   "id": "548dc0c6a01a151f",
   "metadata": {},
   "outputs": [],
   "source": [
    "df.drop(\"B\", inplace=True)"
   ]
  },
  {
   "cell_type": "code",
   "execution_count": null,
   "id": "8ab4766471a95fb2",
   "metadata": {},
   "outputs": [],
   "source": [
    "df"
   ]
  },
  {
   "cell_type": "code",
   "execution_count": null,
   "id": "6df4d9bacd085103",
   "metadata": {},
   "outputs": [],
   "source": [
    "df.drop(\"z\", axis=1)"
   ]
  },
  {
   "cell_type": "code",
   "execution_count": null,
   "id": "c2d1a38163a33cee",
   "metadata": {},
   "outputs": [],
   "source": [
    "df = create_data_frame()"
   ]
  },
  {
   "cell_type": "code",
   "execution_count": null,
   "id": "3bcc7c77162f1892",
   "metadata": {},
   "outputs": [],
   "source": [
    "df"
   ]
  },
  {
   "cell_type": "code",
   "execution_count": null,
   "id": "0ddf344e087dc907",
   "metadata": {},
   "outputs": [],
   "source": [
    "df[\"w\"]"
   ]
  },
  {
   "cell_type": "code",
   "execution_count": null,
   "id": "48a25920d9b2dafb",
   "metadata": {
    "lines_to_next_cell": 2
   },
   "outputs": [],
   "source": [
    "df.loc[\"A\"]"
   ]
  },
  {
   "cell_type": "code",
   "execution_count": null,
   "id": "eb46d3f63362b0e7",
   "metadata": {},
   "outputs": [],
   "source": [
    "df.iloc[0]"
   ]
  },
  {
   "cell_type": "code",
   "execution_count": null,
   "id": "8e1bf9a4a3935bdf",
   "metadata": {},
   "outputs": [],
   "source": [
    "df.loc[\"B\", \"z\"]"
   ]
  },
  {
   "cell_type": "code",
   "execution_count": null,
   "id": "4d2106355c589e11",
   "metadata": {},
   "outputs": [],
   "source": [
    "df.loc[[\"A\", \"C\"], [\"x\", \"y\"]]"
   ]
  },
  {
   "cell_type": "code",
   "execution_count": null,
   "id": "7dfb48e6138297d3",
   "metadata": {},
   "outputs": [],
   "source": [
    "df > 0  # noqa"
   ]
  },
  {
   "cell_type": "code",
   "execution_count": null,
   "id": "ed6d7a2f72501d3e",
   "metadata": {},
   "outputs": [],
   "source": [
    "df[df > 0]"
   ]
  },
  {
   "cell_type": "code",
   "execution_count": null,
   "id": "6b4e03423667dbb7",
   "metadata": {},
   "outputs": [],
   "source": []
  }
 ],
 "metadata": {
  "kernelspec": {
   "display_name": "Python 3 (ipykernel)",
   "language": "python",
   "name": "python3"
  },
  "language_info": {
   "codemirror_mode": {
    "name": "ipython",
    "version": 3
   },
   "file_extension": ".py",
   "mimetype": "text/x-python",
   "name": "python",
   "nbconvert_exporter": "python",
   "pygments_lexer": "ipython3"
  }
 },
 "nbformat": 4,
 "nbformat_minor": 5
}
