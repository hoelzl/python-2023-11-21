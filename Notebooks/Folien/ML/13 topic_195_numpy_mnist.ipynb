{
 "cells": [
  {
   "cell_type": "code",
   "execution_count": null,
   "id": "6f0cb7758fa63090",
   "metadata": {},
   "outputs": [],
   "source": [
    "import matplotlib.pyplot as plt\n",
    "from nbex.interactive import session\n",
    "import numpy as np\n",
    "from sklearn.datasets import fetch_openml\n",
    "from sklearn.ensemble import RandomForestClassifier\n",
    "from sklearn.metrics import (\n",
    "    accuracy_score,\n",
    "    balanced_accuracy_score,\n",
    ")\n",
    "from sklearn.model_selection import train_test_split"
   ]
  },
  {
   "cell_type": "code",
   "execution_count": null,
   "id": "60e127ab0c335c1d",
   "metadata": {},
   "outputs": [],
   "source": [
    "mnist = globals().get(\"mnist\") or fetch_openml(\"mnist_784\", version=1)"
   ]
  },
  {
   "cell_type": "code",
   "execution_count": null,
   "id": "9ec356965a5f7e57",
   "metadata": {},
   "outputs": [],
   "source": [
    "mnist.data.to_numpy().shape"
   ]
  },
  {
   "cell_type": "code",
   "execution_count": null,
   "id": "16053959004c982f",
   "metadata": {
    "lines_to_next_cell": 1
   },
   "outputs": [],
   "source": [
    "x = mnist.data.to_numpy().reshape(-1, 28, 28).astype(np.int32)\n",
    "y = mnist.target.to_numpy().astype(np.int32)"
   ]
  },
  {
   "cell_type": "code",
   "execution_count": null,
   "id": "d6b170bc6dc7d4a6",
   "metadata": {},
   "outputs": [],
   "source": [
    "def show_labeled_image(index):\n",
    "    plt.imshow(x[index], cmap=\"binary\")\n",
    "    plt.show()\n",
    "    y[index]"
   ]
  },
  {
   "cell_type": "code",
   "execution_count": null,
   "id": "4a857a80417c5957",
   "metadata": {},
   "outputs": [],
   "source": [
    "if session.is_interactive:\n",
    "    show_labeled_image(5)"
   ]
  },
  {
   "cell_type": "code",
   "execution_count": null,
   "id": "7db42fab8c131a9b",
   "metadata": {},
   "outputs": [],
   "source": [
    "x_train, x_test, y_train, y_test = train_test_split(\n",
    "    x, y, test_size=0.2, random_state=42\n",
    ")"
   ]
  },
  {
   "cell_type": "code",
   "execution_count": null,
   "id": "722aa141b5d5bc14",
   "metadata": {},
   "outputs": [],
   "source": [
    "x_train.dtype"
   ]
  },
  {
   "cell_type": "code",
   "execution_count": null,
   "id": "f0e6b239ef14231d",
   "metadata": {},
   "outputs": [],
   "source": [
    "x_train.shape, x_test.shape"
   ]
  },
  {
   "cell_type": "code",
   "execution_count": null,
   "id": "9a610746a6c00228",
   "metadata": {},
   "outputs": [],
   "source": [
    "y_train.shape, y_test.shape"
   ]
  },
  {
   "cell_type": "code",
   "execution_count": null,
   "id": "b99a5c79c3ccf7b9",
   "metadata": {},
   "outputs": [],
   "source": [
    "x_mean = x_train.mean(axis=0)"
   ]
  },
  {
   "cell_type": "code",
   "execution_count": null,
   "id": "5c818bdf0144e215",
   "metadata": {},
   "outputs": [],
   "source": [
    "x_mean.shape"
   ]
  },
  {
   "cell_type": "code",
   "execution_count": null,
   "id": "f0c73475cec527f0",
   "metadata": {},
   "outputs": [],
   "source": [
    "if session.is_interactive:\n",
    "    plt.imshow(x_mean, cmap=\"binary\")"
   ]
  },
  {
   "cell_type": "code",
   "execution_count": null,
   "id": "5b5d524e3ae19cc9",
   "metadata": {},
   "outputs": [],
   "source": [
    "ideal_digits = np.zeros((10, 28, 28), dtype=np.int32)"
   ]
  },
  {
   "cell_type": "code",
   "execution_count": null,
   "id": "0458aa069e138906",
   "metadata": {},
   "outputs": [],
   "source": [
    "for i in range(10):\n",
    "    x_i = x_train[y_train == i]\n",
    "    ideal_digits[i] = x_i.mean(axis=0)"
   ]
  },
  {
   "cell_type": "code",
   "execution_count": null,
   "id": "65a5a569a185a1cd",
   "metadata": {},
   "outputs": [],
   "source": [
    "plt.imshow(ideal_digits[0], cmap=\"binary\")"
   ]
  },
  {
   "cell_type": "code",
   "execution_count": null,
   "id": "d3b1414e14403c98",
   "metadata": {
    "lines_to_next_cell": 2
   },
   "outputs": [],
   "source": [
    "if session.is_interactive:\n",
    "    fig, ax = plt.subplots(2, 5, figsize=(15, 5))\n",
    "    for i in range(10):\n",
    "        ax.reshape(10)[i].imshow(ideal_digits[i], cmap=\"binary\")"
   ]
  },
  {
   "cell_type": "code",
   "execution_count": null,
   "id": "d36b4fc81ef4a6b9",
   "metadata": {},
   "outputs": [],
   "source": [
    "if session.is_interactive:\n",
    "    plt.imshow(x_test[0], cmap=\"binary\")"
   ]
  },
  {
   "cell_type": "code",
   "execution_count": null,
   "id": "8eebe4e7d3c9759c",
   "metadata": {},
   "outputs": [],
   "source": [
    "np.set_printoptions(precision=2)"
   ]
  },
  {
   "cell_type": "code",
   "execution_count": null,
   "id": "7fd9e11e662c24af",
   "metadata": {},
   "outputs": [],
   "source": [
    "x_test[0, 3:12, 3:12]"
   ]
  },
  {
   "cell_type": "code",
   "execution_count": null,
   "id": "53e62c6fe1d4645f",
   "metadata": {},
   "outputs": [],
   "source": [
    "diff = ideal_digits[8] - x_test[0]\n",
    "diff[3:12, 3:12]"
   ]
  },
  {
   "cell_type": "code",
   "execution_count": null,
   "id": "99fc34f58c00f2c8",
   "metadata": {},
   "outputs": [],
   "source": [
    "plt.imshow(diff)"
   ]
  },
  {
   "cell_type": "code",
   "execution_count": null,
   "id": "8d18a79acecbbac2",
   "metadata": {},
   "outputs": [],
   "source": [
    "(diff * diff)[3:12, 3:12]"
   ]
  },
  {
   "cell_type": "code",
   "execution_count": null,
   "id": "7a034178afdb4c0c",
   "metadata": {},
   "outputs": [],
   "source": [
    "(diff * diff).sum()"
   ]
  },
  {
   "cell_type": "code",
   "execution_count": null,
   "id": "7f9bb3b288a9f78b",
   "metadata": {},
   "outputs": [],
   "source": [
    "diffs = ideal_digits - x_test[0]\n",
    "diffs.shape"
   ]
  },
  {
   "cell_type": "code",
   "execution_count": null,
   "id": "a6b91ef2a4055bc3",
   "metadata": {
    "lines_to_next_cell": 1
   },
   "outputs": [],
   "source": [
    "errors = (diffs * diffs).sum(axis=(1, 2))\n",
    "print(errors.shape)\n",
    "errors.argmin()"
   ]
  },
  {
   "cell_type": "code",
   "execution_count": null,
   "id": "835372d683c2af6b",
   "metadata": {},
   "outputs": [],
   "source": [
    "def compute_single_numpy_prediction(img):\n",
    "    diffs = ideal_digits - img\n",
    "    return (diffs * diffs).sum(axis=(1, 2)).argmin()"
   ]
  },
  {
   "cell_type": "code",
   "execution_count": null,
   "id": "2d55c24d3fe9478a",
   "metadata": {},
   "outputs": [],
   "source": [
    "compute_single_numpy_prediction(x_test[0])"
   ]
  },
  {
   "cell_type": "code",
   "execution_count": null,
   "id": "83acde182355fa67",
   "metadata": {},
   "outputs": [],
   "source": [
    "batched_ideal_digits = np.expand_dims(ideal_digits, axis=0)\n",
    "batched_ideal_digits.shape"
   ]
  },
  {
   "cell_type": "code",
   "execution_count": null,
   "id": "58a885c8c21e8481",
   "metadata": {
    "lines_to_next_cell": 1
   },
   "outputs": [],
   "source": [
    "np.expand_dims(x_test, axis=1).shape"
   ]
  },
  {
   "cell_type": "code",
   "execution_count": null,
   "id": "9cf8af3b618ed24d",
   "metadata": {},
   "outputs": [],
   "source": [
    "def compute_numpy_predictions(imgs):\n",
    "    diffs = ideal_digits - np.expand_dims(imgs, axis=1)\n",
    "    return (diffs * diffs).sum(axis=(2, 3)).argmin(axis=1)"
   ]
  },
  {
   "cell_type": "code",
   "execution_count": null,
   "id": "b09853ecfe908d75",
   "metadata": {},
   "outputs": [],
   "source": [
    "pred_numpy = compute_numpy_predictions(x_test)"
   ]
  },
  {
   "cell_type": "code",
   "execution_count": null,
   "id": "3d4f553938d22477",
   "metadata": {},
   "outputs": [],
   "source": [
    "pred_numpy.shape"
   ]
  },
  {
   "cell_type": "code",
   "execution_count": null,
   "id": "d3c57f024bd6a3d9",
   "metadata": {},
   "outputs": [],
   "source": [
    "def print_scores(predictions):\n",
    "    accuracy = accuracy_score(y_test, predictions) * 100\n",
    "    balanced_accuracy = balanced_accuracy_score(y_test, predictions) * 100\n",
    "    print(f\"Accuracy:          {accuracy:.1f}%\")\n",
    "    print(f\"Balanced Accuracy: {balanced_accuracy:.1f}%\")\n",
    "    print()\n",
    "    for i in range(10):\n",
    "        idx = y_test == i\n",
    "        accuracy_i = accuracy_score(y_test[idx], predictions[idx]) * 100\n",
    "        print(f\"Accuracy for {i}:    {accuracy_i:.1f}%\")\n",
    "    print()"
   ]
  },
  {
   "cell_type": "code",
   "execution_count": null,
   "id": "20a339376b835256",
   "metadata": {},
   "outputs": [],
   "source": [
    "print_scores(pred_numpy)"
   ]
  },
  {
   "cell_type": "code",
   "execution_count": null,
   "id": "e57151efbe7fba8e",
   "metadata": {},
   "outputs": [],
   "source": [
    "if session.is_interactive:\n",
    "    plt.imshow(x_mean, cmap=\"binary\")"
   ]
  },
  {
   "cell_type": "code",
   "execution_count": null,
   "id": "fe3416255165e36e",
   "metadata": {},
   "outputs": [],
   "source": [
    "rf_clf = RandomForestClassifier()"
   ]
  },
  {
   "cell_type": "code",
   "execution_count": null,
   "id": "f127eb9b9f3fa3d6",
   "metadata": {},
   "outputs": [],
   "source": [
    "x_train.shape"
   ]
  },
  {
   "cell_type": "code",
   "execution_count": null,
   "id": "482bee9395818baa",
   "metadata": {},
   "outputs": [],
   "source": [
    "rf_clf.fit(x_train.reshape(-1, 28 * 28), y_train)"
   ]
  },
  {
   "cell_type": "code",
   "execution_count": null,
   "id": "fcda5ec5f65a3247",
   "metadata": {},
   "outputs": [],
   "source": [
    "pred_rf = rf_clf.predict(x_test.reshape(-1, 28 * 28))"
   ]
  },
  {
   "cell_type": "code",
   "execution_count": null,
   "id": "a5bdefbc9c28729f",
   "metadata": {},
   "outputs": [],
   "source": [
    "print_scores(pred_rf)"
   ]
  },
  {
   "cell_type": "code",
   "execution_count": null,
   "id": "6b4e03423667dbb7",
   "metadata": {},
   "outputs": [],
   "source": []
  }
 ],
 "metadata": {
  "kernelspec": {
   "display_name": "Python 3 (ipykernel)",
   "language": "python",
   "name": "python3"
  },
  "language_info": {
   "codemirror_mode": {
    "name": "ipython",
    "version": 3
   },
   "file_extension": ".py",
   "mimetype": "text/x-python",
   "name": "python",
   "nbconvert_exporter": "python",
   "pygments_lexer": "ipython3"
  }
 },
 "nbformat": 4,
 "nbformat_minor": 5
}
