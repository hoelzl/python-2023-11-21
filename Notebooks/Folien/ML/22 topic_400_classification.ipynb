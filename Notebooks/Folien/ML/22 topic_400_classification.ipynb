{
 "cells": [
  {
   "cell_type": "code",
   "execution_count": null,
   "id": "39e4d36c85eb2970",
   "metadata": {},
   "outputs": [],
   "source": [
    "import matplotlib.pyplot as plt\n",
    "import numpy as np\n",
    "import seaborn as sns\n",
    "from matplotlib.colors import ListedColormap\n",
    "from sklearn.datasets import make_circles, make_classification, make_moons\n",
    "from sklearn.linear_model import LogisticRegression\n",
    "from sklearn.metrics import accuracy_score, f1_score, precision_score, recall_score\n",
    "from sklearn.model_selection import train_test_split\n",
    "from sklearn.preprocessing import StandardScaler"
   ]
  },
  {
   "cell_type": "code",
   "execution_count": null,
   "id": "2d1da30dd34db4f8",
   "metadata": {},
   "outputs": [],
   "source": [
    "cm = plt.cm.RdBu\n",
    "cm_bright = ListedColormap([\"#FF0000\", \"#0000FF\"])"
   ]
  },
  {
   "cell_type": "code",
   "execution_count": null,
   "id": "6ad3d886668eaf61",
   "metadata": {},
   "outputs": [],
   "source": [
    "make_moons(n_samples=10, noise=0.0)"
   ]
  },
  {
   "cell_type": "code",
   "execution_count": null,
   "id": "8d8d902c13e742eb",
   "metadata": {},
   "outputs": [],
   "source": [
    "def scatterplot(data, ax=None):\n",
    "    sns.scatterplot(x=data[0][:, 0], y=data[0][:, 1], hue=data[1], ax=ax)"
   ]
  },
  {
   "cell_type": "code",
   "execution_count": null,
   "id": "cab5c134ac77a4d1",
   "metadata": {},
   "outputs": [],
   "source": [
    "scatterplot(make_moons(noise=0.0))"
   ]
  },
  {
   "cell_type": "code",
   "execution_count": null,
   "id": "7d3b72506234b6d8",
   "metadata": {},
   "outputs": [],
   "source": [
    "scatterplot(make_moons(noise=0.5))"
   ]
  },
  {
   "cell_type": "code",
   "execution_count": null,
   "id": "de97a05514af2b85",
   "metadata": {},
   "outputs": [],
   "source": [
    "fig, axs = plt.subplots(ncols=6, figsize=(20, 4))\n",
    "for i, noise in enumerate(np.linspace(0, 0.3, 6)):\n",
    "    scatterplot(make_moons(noise=noise), ax=axs[i])\n",
    "    axs[i].set_title(f\"Noise: {noise}\")"
   ]
  },
  {
   "cell_type": "code",
   "execution_count": null,
   "id": "6b4e03423667dbb7",
   "metadata": {
    "lines_to_next_cell": 0
   },
   "outputs": [],
   "source": []
  },
  {
   "cell_type": "code",
   "execution_count": null,
   "id": "5c226e85ed0ada2c",
   "metadata": {},
   "outputs": [],
   "source": [
    "fig, axs = plt.subplots(ncols=6, figsize=(20, 4))\n",
    "for i, noise in enumerate(np.linspace(0, 0.3, 6)):\n",
    "    scatterplot(make_circles(noise=noise, factor=0.5), ax=axs[i])\n",
    "    axs[i].set_title(f\"Noise: {noise}\")"
   ]
  },
  {
   "cell_type": "code",
   "execution_count": null,
   "id": "2d2a14058ee1b966",
   "metadata": {},
   "outputs": [],
   "source": [
    "x, y = make_classification(\n",
    "    n_features=2,\n",
    "    n_informative=1,\n",
    "    n_redundant=0,\n",
    "    n_classes=2,\n",
    "    n_clusters_per_class=1,\n",
    "    scale=(0.01, 100),\n",
    "    shift=10,\n",
    "    random_state=42,\n",
    ")"
   ]
  },
  {
   "cell_type": "code",
   "execution_count": null,
   "id": "41caa30acdf40279",
   "metadata": {},
   "outputs": [],
   "source": [
    "scatterplot((x, y))"
   ]
  },
  {
   "cell_type": "code",
   "execution_count": null,
   "id": "ee9e11877e56e897",
   "metadata": {},
   "outputs": [],
   "source": [
    "scaler = StandardScaler()\n",
    "scaler.fit(x)\n",
    "x_t = scaler.transform(x)"
   ]
  },
  {
   "cell_type": "code",
   "execution_count": null,
   "id": "35e9addc6af24a4f",
   "metadata": {},
   "outputs": [],
   "source": [
    "scatterplot((x_t, y))"
   ]
  },
  {
   "cell_type": "code",
   "execution_count": null,
   "id": "ff769910d55bf1c6",
   "metadata": {},
   "outputs": [],
   "source": [
    "def create_datasets(noise=0.15):\n",
    "    return [\n",
    "        make_moons(n_samples=250, noise=noise, random_state=101),\n",
    "        make_circles(n_samples=250, noise=noise, factor=0.5, random_state=102),\n",
    "        make_classification(\n",
    "            n_samples=250,\n",
    "            n_features=2,\n",
    "            n_redundant=0,\n",
    "            n_informative=1,\n",
    "            n_clusters_per_class=1,\n",
    "            flip_y=noise,\n",
    "            random_state=103,\n",
    "        ),\n",
    "        make_classification(\n",
    "            n_samples=250,\n",
    "            n_features=2,\n",
    "            n_redundant=0,\n",
    "            n_informative=2,\n",
    "            n_clusters_per_class=1,\n",
    "            flip_y=noise,\n",
    "            random_state=104,\n",
    "        ),\n",
    "    ]"
   ]
  },
  {
   "cell_type": "code",
   "execution_count": null,
   "id": "aa49485d1ffd628c",
   "metadata": {},
   "outputs": [],
   "source": [
    "fig, axs = plt.subplots(ncols=4, figsize=(16, 4))\n",
    "for i, ds in enumerate(create_datasets()):\n",
    "    scatterplot(ds, ax=axs[i])"
   ]
  },
  {
   "cell_type": "code",
   "execution_count": null,
   "id": "fa69544bb693ddfc",
   "metadata": {},
   "outputs": [],
   "source": [
    "np.arange(-1, 1.1, 0.5)"
   ]
  },
  {
   "cell_type": "code",
   "execution_count": null,
   "id": "20c404ac45161f4d",
   "metadata": {},
   "outputs": [],
   "source": [
    "x_plot, y_plot = np.meshgrid(np.arange(-1, 1.1, 0.5), np.arange(-2, 2.1, 1))\n",
    "x_plot, y_plot"
   ]
  },
  {
   "cell_type": "code",
   "execution_count": null,
   "id": "39eba66a519c8c6b",
   "metadata": {},
   "outputs": [],
   "source": [
    "x_plot.ravel()"
   ]
  },
  {
   "cell_type": "code",
   "execution_count": null,
   "id": "cb61f9698a935756",
   "metadata": {},
   "outputs": [],
   "source": [
    "x_plot.reshape(-1)"
   ]
  },
  {
   "cell_type": "code",
   "execution_count": null,
   "id": "450c8a75e09e61d6",
   "metadata": {},
   "outputs": [],
   "source": [
    "np.c_[x_plot.ravel(), y_plot.ravel()]"
   ]
  },
  {
   "cell_type": "code",
   "execution_count": null,
   "id": "f9165dd3f3f872d2",
   "metadata": {},
   "outputs": [],
   "source": [
    "def compute_plot_grid(x, dist):\n",
    "    arr_min, arr_max = np.min(x, axis=0) - 0.5, np.max(x, axis=0) + 0.55\n",
    "    return np.meshgrid(\n",
    "        np.arange(arr_min[0], arr_max[0], dist), np.arange(arr_min[1], arr_max[1], 1)\n",
    "    )"
   ]
  },
  {
   "cell_type": "code",
   "execution_count": null,
   "id": "4a0bc65872d87a13",
   "metadata": {},
   "outputs": [],
   "source": [
    "compute_plot_grid(np.arange(6).reshape(3, 2), 1)"
   ]
  },
  {
   "cell_type": "code",
   "execution_count": null,
   "id": "42c37df5e97e63cf",
   "metadata": {},
   "outputs": [],
   "source": [
    "def compute_plot_grid_coords(x, dist):\n",
    "    coord_x, coord_y = compute_plot_grid(x, dist)\n",
    "    return np.c_[coord_x.ravel(), coord_y.ravel()]"
   ]
  },
  {
   "cell_type": "code",
   "execution_count": null,
   "id": "0b3149e4a10a86fa",
   "metadata": {},
   "outputs": [],
   "source": [
    "compute_plot_grid_coords(np.arange(6).reshape(3, 2), 1)"
   ]
  },
  {
   "cell_type": "code",
   "execution_count": null,
   "id": "3eb5acfd4e99454e",
   "metadata": {},
   "outputs": [],
   "source": [
    "x, y = make_moons(n_samples=250, noise=0.15, random_state=101)\n",
    "x = StandardScaler().fit_transform(x)\n",
    "x_train, x_test, y_train, y_test = train_test_split(\n",
    "    x, y, test_size=0.5, random_state=42\n",
    ")"
   ]
  },
  {
   "cell_type": "code",
   "execution_count": null,
   "id": "db73d66a60d7574f",
   "metadata": {},
   "outputs": [],
   "source": [
    "scatterplot((x, y))"
   ]
  },
  {
   "cell_type": "code",
   "execution_count": null,
   "id": "8bff72eb495b9598",
   "metadata": {},
   "outputs": [],
   "source": [
    "lr_clf = LogisticRegression()\n",
    "lr_clf.fit(x_train, y_train)\n",
    "y_lr_pred = lr_clf.predict(x_test)"
   ]
  },
  {
   "cell_type": "code",
   "execution_count": null,
   "id": "8d2cfb5e737638bb",
   "metadata": {},
   "outputs": [],
   "source": [
    "scatterplot((x_test, y_lr_pred))"
   ]
  },
  {
   "cell_type": "code",
   "execution_count": null,
   "id": "36ab8226cdd47614",
   "metadata": {},
   "outputs": [],
   "source": [
    "lr_clf.score(x_test, y_test)"
   ]
  },
  {
   "cell_type": "code",
   "execution_count": null,
   "id": "f1de36e225590278",
   "metadata": {
    "lines_to_next_cell": 2
   },
   "outputs": [],
   "source": [
    "print(accuracy_score(y_test, y_lr_pred))\n",
    "print(precision_score(y_test, y_lr_pred))\n",
    "print(recall_score(y_test, y_lr_pred))\n",
    "print(f1_score(y_test, y_lr_pred))"
   ]
  },
  {
   "cell_type": "code",
   "execution_count": null,
   "id": "a5f6bc33bd587d13",
   "metadata": {},
   "outputs": [],
   "source": []
  }
 ],
 "metadata": {
  "kernelspec": {
   "display_name": "Python 3 (ipykernel)",
   "language": "python",
   "name": "python3"
  },
  "language_info": {
   "codemirror_mode": {
    "name": "ipython",
    "version": 3
   },
   "file_extension": ".py",
   "mimetype": "text/x-python",
   "name": "python",
   "nbconvert_exporter": "python",
   "pygments_lexer": "ipython3"
  }
 },
 "nbformat": 4,
 "nbformat_minor": 5
}
